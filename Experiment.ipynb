{
 "cells": [
  {
   "cell_type": "code",
   "execution_count": 1,
   "metadata": {},
   "outputs": [],
   "source": [
    "inp = ['N','F#:min', 'F#:min', 'D:maj', 'D:maj', 'A:maj', 'A:maj', 'C#:min', 'E:maj', 'F#:min', 'F#:min', 'D:maj', 'D:maj', 'A:maj', 'A:maj', 'A:maj', 'E:maj', 'F#:min', 'F#:min', 'D:maj', 'D:maj', 'A:maj', 'A:maj', 'E:maj', 'E:maj', 'F#:min', 'F#:min', 'D:maj', 'D:maj', 'A:maj', 'A:maj', 'A:maj', 'E:maj', 'F#:min', 'F#:min', 'D:maj', 'D:maj', 'A:maj', 'A:maj', 'E:maj', 'E:maj', 'F#:min', 'F#:min', 'D:maj', 'A:maj', 'A:maj', 'A:maj', 'A:maj', 'C#:min', 'F#:min', 'F#:min', 'D:maj', 'D:maj', 'A:maj', 'A:maj', 'E:maj', 'E:maj', 'F#:min', 'F#:min', 'D:maj', 'A:maj', 'A:maj', 'A:maj', 'A:maj', 'E:maj', 'F#:min', 'F#:min', 'D:maj', 'D:maj', 'A:maj', 'A:maj', 'E:maj', 'E:maj', 'F#:min', 'F#:min', 'D:maj', 'A:maj', 'A:maj', 'A:maj', 'A:maj', 'C#:min', 'F#:min', 'F#:min', 'D:maj', 'D:maj', 'A:maj', 'A:maj', 'E:maj', 'E:maj', 'F#:min', 'F#:min', 'D:maj', 'A:maj', 'A:maj', 'A:maj', 'A:maj', 'E:maj', 'F#:min', 'F#:min', 'D:maj', 'D:maj', 'A:maj', 'A:maj', 'A:maj', 'E:maj', 'F#:min', 'D:maj', 'D:maj', 'D:maj', 'A:maj', 'A:maj', 'A:maj', 'A:maj', 'F#:min', 'F#:min', 'D:maj', 'D:maj', 'A:maj', 'A:maj', 'E:maj', 'E:maj', 'F#:min', 'F#:min', 'D:maj', 'D:maj', 'A:maj', 'A:maj', 'E:maj', 'E:maj', 'F#:min', 'F#:min', 'D:maj', 'D:maj', 'A:maj', 'A:maj', 'E:maj', 'E:maj', 'F#:min', 'F#:min', 'D:maj', 'A:maj', 'A:maj', 'A:maj', 'A:maj', 'C#:min', 'F#:min', 'F#:min', 'D:maj', 'D:maj', 'A:maj', 'A:maj', 'E:maj', 'E:maj', 'F#:min', 'F#:min', 'D:maj', 'A:maj', 'A:maj', 'A:maj', 'A:maj', 'E:maj', 'F#:min', 'F#:min', 'D:maj', 'D:maj', 'A:maj', 'A:maj', 'E:maj', 'E:maj', 'F#:min', 'F#:min', 'D:maj', 'A:maj', 'A:maj', 'A:maj', 'A:maj', 'C#:min', 'F#:min', 'F#:min', 'D:maj', 'D:maj', 'A:maj', 'A:maj', 'E:maj', 'E:maj', 'F#:min', 'F#:min', 'D:maj', 'A:maj', 'A:maj', 'A:maj', 'A:maj', 'E:maj', 'F#:min', 'F#:min', 'D:maj', 'D:maj', 'A:maj', 'A:maj', 'A:maj', 'E:maj', 'F#:min', 'D:maj', 'D:maj', 'D:maj', 'A:maj', 'A:maj', 'A:maj', 'A:maj', 'F#:min', 'F#:min', 'D:maj', 'D:maj', 'A:maj', 'A:maj', 'E:maj', 'E:maj', 'F#:min', 'F#:min', 'D:maj', 'D:maj', 'A:maj', 'A:maj', 'E:maj', 'E:maj', 'F#:min', 'D:maj', 'D:maj', 'D:maj', 'A:maj', 'A:maj', 'A:maj', 'E:maj', 'F#:min', 'D:maj', 'D:maj', 'D:maj', 'A:maj', 'A:maj', 'A:maj', 'A:maj', 'F#:min', 'F#:min', 'D:maj', 'D:maj', 'A:maj', 'A:maj', 'E:maj', 'E:maj', 'F#:min', 'F#:min', 'D:maj', 'D:maj', 'A:maj', 'A:maj', 'N']        \n"
   ]
  },
  {
   "cell_type": "code",
   "execution_count": 29,
   "metadata": {},
   "outputs": [
    {
     "name": "stdout",
     "output_type": "stream",
     "text": [
      "a [3, 4, 5, 6, 7, 8, 9]\n",
      "0.8333333333333334\n",
      "a [3.75, 5.0, 6.25, 7.5, 8.75, 10.0, 11.25]\n",
      "[1.6666666666666667, 2.9166666666666665, 4.166666666666667, 5.416666666666667, 6.666666666666667]\n",
      "[1.25, 1.25, 1.25, 1.25, 1.25, 1.25]\n",
      "[1.2499999999999998, 1.2500000000000004, 1.25, 1.25]\n"
     ]
    }
   ],
   "source": [
    "a = [3,4,5,6,7,8,9]\n",
    "b = [2,3.5,5,6.5,8]\n",
    "\n",
    "print(\"a\", a)\n",
    "ratio = 1.25\n",
    "ratio_a = 1\n",
    "ratio_b =1.5\n",
    "print(ratio /ratio_b)\n",
    "a = [i * ratio / ratio_a for i in a]\n",
    "b = [i * ratio / ratio_b for i in b]\n",
    "\n",
    "print(\"a\",a)\n",
    "print(b)\n",
    "adiff = [a[n]-a[n-1] for n in range(1,len(a))]\n",
    "bdiff = [b[n]-b[n-1] for n in range(1,len(b))]\n",
    "print(adiff)\n",
    "print(bdiff)"
   ]
  },
  {
   "cell_type": "code",
   "execution_count": null,
   "metadata": {},
   "outputs": [],
   "source": []
  }
 ],
 "metadata": {
  "kernelspec": {
   "display_name": "Python 3",
   "language": "python",
   "name": "python3"
  },
  "language_info": {
   "codemirror_mode": {
    "name": "ipython",
    "version": 3
   },
   "file_extension": ".py",
   "mimetype": "text/x-python",
   "name": "python",
   "nbconvert_exporter": "python",
   "pygments_lexer": "ipython3",
   "version": "3.6.4"
  }
 },
 "nbformat": 4,
 "nbformat_minor": 2
}
