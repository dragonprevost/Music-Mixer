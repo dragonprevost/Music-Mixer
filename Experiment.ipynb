{
 "cells": [
  {
   "cell_type": "code",
   "execution_count": 24,
   "metadata": {},
   "outputs": [],
   "source": [
    "# from constraint import *\n",
    "import itertools\n",
    "inp  =['D#:min', 'B:maj', 'B:maj', 'F#:maj', 'F#:maj', 'C#:maj', 'C#:maj', 'D#:min', 'F#:maj', 'B:maj', 'B:maj', 'F#:maj', 'F#:maj', 'C#:maj', 'C#:maj', 'D#:min', 'F#:maj', 'B:maj', 'B:maj', 'F#:maj', 'F#:maj', 'C#:maj', 'C#:maj', 'D#:min', 'F#:maj', 'B:maj', 'B:maj', 'F#:maj', 'F#:maj', 'C#:maj', 'C#:maj', 'D#:min', 'F#:maj', 'B:maj', 'B:maj', 'F#:maj', 'F#:maj', 'C#:maj', 'C#:maj', 'D#:min', 'F#:maj', 'B:maj', 'B:maj', 'F#:maj', 'F#:maj', 'C#:maj', 'C#:maj', 'D#:min', 'F#:maj', 'B:maj', 'B:maj', 'F#:maj', 'F#:maj', 'C#:maj', 'C#:maj', 'D#:min', 'F#:maj', 'B:maj', 'B:maj', 'F#:maj', 'F#:maj', 'C#:maj', 'C#:maj', 'D#:min', 'F#:maj', 'B:maj', 'B:maj', 'F#:maj', 'F#:maj', 'C#:maj', 'C#:maj', 'D#:min', 'F#:maj', 'B:maj', 'B:maj', 'F#:maj', 'F#:maj', 'C#:maj', 'C#:maj', 'D#:min', 'F#:maj', 'B:maj', 'B:maj', 'F#:maj', 'F#:maj', 'C#:maj', 'C#:maj', 'D#:min', 'F#:maj', 'B:maj', 'B:maj', 'F#:maj', 'F#:maj', 'C#:maj', 'C#:maj', 'D#:min', 'F#:maj', 'B:maj', 'B:maj', 'F#:maj', 'F#:maj', 'C#:maj', 'C#:maj', 'D#:min', 'F#:maj', 'B:maj', 'B:maj', 'F#:maj', 'F#:maj', 'C#:maj', 'C#:maj', 'D#:min', 'F#:maj', 'B:maj', 'B:maj', 'F#:maj', 'F#:maj', 'C#:maj', 'C#:maj', 'B:maj', 'B:maj', 'B:maj', 'B:maj', 'B:maj', 'B:maj', 'N', 'N', 'D#:min', 'F#:maj', 'B:maj', 'B:maj', 'F#:maj', 'F#:maj', 'C#:maj', 'C#:maj', 'D#:min', 'F#:maj', 'B:maj', 'B:maj', 'F#:maj', 'F#:maj', 'C#:maj', 'C#:maj', 'D#:min', 'F#:maj', 'B:maj', 'B:maj', 'F#:maj', 'F#:maj', 'C#:maj', 'C#:maj', 'D#:min', 'F#:maj', 'B:maj', 'B:maj', 'F#:maj', 'F#:maj', 'C#:maj', 'C#:maj', 'D#:min', 'F#:maj', 'B:maj', 'B:maj', 'F#:maj', 'F#:maj', 'C#:maj', 'C#:maj', 'D#:min', 'F#:maj', 'B:maj', 'B:maj', 'F#:maj', 'F#:maj', 'C#:maj', 'C#:maj', 'D#:min', 'F#:maj', 'B:maj', 'B:maj', 'F#:maj', 'F#:maj', 'C#:maj', 'C#:maj', 'D#:min', 'F#:maj', 'B:maj', 'N', 'F#:maj', 'F#:maj', 'C#:maj', 'C#:maj', 'D#:min', 'F#:maj', 'B:maj', 'B:maj', 'F#:maj', 'F#:maj', 'C#:maj', 'C#:maj', 'D#:min', 'F#:maj', 'B:maj', 'B:maj', 'F#:maj', 'F#:maj', 'C#:maj', 'C#:maj', 'D#:min', 'F#:maj', 'B:maj', 'B:maj', 'F#:maj', 'F#:maj', 'C#:maj', 'C#:maj', 'D#:min', 'F#:maj', 'B:maj', 'B:maj', 'F#:maj', 'F#:maj', 'C#:maj', 'C#:maj', 'D#:min', 'F#:maj', 'B:maj', 'B:maj', 'F#:maj', 'F#:maj', 'C#:maj', 'C#:maj', 'D#:min', 'F#:maj', 'B:maj', 'B:maj', 'F#:maj', 'F#:maj', 'C#:maj', 'C#:maj', 'D#:min', 'F#:maj', 'B:maj', 'B:maj', 'F#:maj', 'F#:maj', 'C#:maj', 'C#:maj', 'B:maj', 'B:maj', 'B:maj', 'B:maj', 'F#:maj', 'F#:maj', 'F#:maj', 'F#:maj', 'G#:maj', 'G#:min', 'B:maj', 'B:maj', 'F#:maj', 'F#:maj', 'C#:maj', 'C#:maj', 'G#:maj', 'N', 'B:maj', 'B:maj', 'D#:min', 'F#:maj', 'C#:maj', 'C#:maj', 'G#:min', 'G#:min', 'B:maj', 'B:maj', 'D#:min', 'F#:maj', 'C#:maj', 'C#:maj', 'B:maj', 'B:maj', 'B:maj', 'B:maj', 'B:maj', 'B:maj', 'N', 'N', 'N', 'N', 'N', 'N', 'D#:min', 'F#:maj', 'B:maj', 'B:maj', 'F#:maj', 'F#:maj', 'C#:maj', 'C#:maj', 'D#:min', 'F#:maj', 'B:maj', 'B:maj', 'F#:maj', 'F#:maj', 'C#:maj', 'C#:maj', 'D#:min', 'D#:min', 'B:maj', 'B:maj', 'F#:maj', 'F#:maj', 'C#:maj', 'C#:maj', 'D#:min', 'D#:min', 'B:maj', 'B:maj', 'F#:maj', 'F#:maj', 'C#:maj', 'C#:maj', 'D#:min', 'F#:maj', 'B:maj', 'B:maj', 'F#:maj', 'F#:maj', 'C#:maj', 'C#:maj', 'D#:min', 'D#:min', 'B:maj', 'B:maj', 'F#:maj', 'F#:maj', 'C#:maj', 'C#:maj', 'D#:min', 'F#:maj', 'B:maj', 'B:maj', 'F#:maj', 'F#:maj', 'C#:maj', 'C#:maj', 'B:maj', 'B:maj', 'B:maj', 'B:maj', 'B:maj', 'B:maj', 'N', 'N', 'N', 'N', 'N', 'N', 'D#:min', 'N', 'B:maj', 'N', 'F#:maj', 'C#:maj']\n",
    "# inp  =['B:maj', 'B:maj', 'F#:maj', 'F#:maj', 'C#:maj', 'C#:maj', 'D#:min', 'F#:maj', 'B:maj', 'B:maj', 'F#:maj', 'F#:maj', 'C#:maj', 'C#:maj', 'D#:min', 'F#:maj', 'B:maj', 'B:maj', 'F#:maj', 'F#:maj', 'C#:maj', 'C#:maj', 'D#:min', 'F#:maj', 'B:maj', 'B:maj', 'F#:maj', 'F#:maj', 'C#:maj', 'C#:maj', 'D#:min', 'F#:maj', 'B:maj', 'B:maj', 'F#:maj', 'F#:maj', 'C#:maj', 'C#:maj', 'D#:min', 'F#:maj', 'B:maj', 'B:maj', 'F#:maj', 'F#:maj', 'C#:maj', 'C#:maj', 'D#:min', 'F#:maj', 'B:maj', 'B:maj', 'F#:maj', 'F#:maj', 'C#:maj', 'C#:maj', 'D#:min', 'F#:maj', 'B:maj', 'B:maj', 'F#:maj', 'F#:maj', 'C#:maj', 'C#:maj', 'D#:min', 'F#:maj', 'B:maj', 'B:maj', 'F#:maj', 'F#:maj', 'C#:maj', 'C#:maj', 'D#:min', 'F#:maj', 'B:maj', 'B:maj', 'F#:maj', 'F#:maj', 'C#:maj', 'C#:maj', 'D#:min', 'F#:maj', 'B:maj', 'B:maj', 'F#:maj', 'F#:maj', 'C#:maj', 'C#:maj', 'D#:min', 'F#:maj', 'B:maj', 'B:maj', 'F#:maj', 'F#:maj', 'C#:maj', 'C#:maj', 'D#:min', 'F#:maj', 'B:maj', 'B:maj', 'F#:maj', 'F#:maj', 'C#:maj', 'C#:maj', 'D#:min', 'F#:maj', 'B:maj', 'B:maj', 'F#:maj', 'F#:maj', 'C#:maj', 'C#:maj', 'D#:min', 'F#:maj', 'B:maj', 'B:maj', 'F#:maj', 'F#:maj', 'C#:maj', 'C#:maj', 'B:maj', 'B:maj', 'B:maj', 'B:maj', 'B:maj', 'B:maj', 'N', 'N', 'D#:min', 'F#:maj', 'B:maj', 'B:maj', 'F#:maj', 'F#:maj', 'C#:maj', 'C#:maj', 'D#:min', 'F#:maj', 'B:maj', 'B:maj', 'F#:maj', 'F#:maj', 'C#:maj', 'C#:maj', 'D#:min', 'F#:maj', 'B:maj', 'B:maj', 'F#:maj', 'F#:maj', 'C#:maj', 'C#:maj', 'D#:min', 'F#:maj', 'B:maj', 'B:maj', 'F#:maj', 'F#:maj', 'C#:maj', 'C#:maj', 'D#:min', 'F#:maj', 'B:maj', 'B:maj', 'F#:maj', 'F#:maj', 'C#:maj', 'C#:maj', 'D#:min', 'F#:maj', 'B:maj', 'B:maj', 'F#:maj', 'F#:maj', 'C#:maj', 'C#:maj', 'D#:min', 'F#:maj', 'B:maj', 'B:maj', 'F#:maj', 'F#:maj', 'C#:maj', 'C#:maj', 'D#:min', 'F#:maj', 'B:maj', 'N', 'F#:maj', 'F#:maj', 'C#:maj', 'C#:maj', 'D#:min', 'F#:maj', 'B:maj', 'B:maj', 'F#:maj', 'F#:maj', 'C#:maj', 'C#:maj', 'D#:min', 'F#:maj', 'B:maj', 'B:maj', 'F#:maj', 'F#:maj', 'C#:maj', 'C#:maj', 'D#:min', 'F#:maj', 'B:maj', 'B:maj', 'F#:maj', 'F#:maj', 'C#:maj', 'C#:maj', 'D#:min', 'F#:maj', 'B:maj', 'B:maj', 'F#:maj', 'F#:maj', 'C#:maj', 'C#:maj', 'D#:min', 'F#:maj', 'B:maj', 'B:maj', 'F#:maj', 'F#:maj', 'C#:maj', 'C#:maj', 'D#:min', 'F#:maj', 'B:maj', 'B:maj', 'F#:maj', 'F#:maj', 'C#:maj', 'C#:maj', 'D#:min', 'F#:maj', 'B:maj', 'B:maj', 'F#:maj', 'F#:maj', 'C#:maj', 'C#:maj', 'B:maj', 'B:maj', 'B:maj', 'B:maj', 'F#:maj', 'F#:maj', 'F#:maj', 'F#:maj', 'G#:maj', 'G#:min', 'B:maj', 'B:maj', 'F#:maj', 'F#:maj', 'C#:maj', 'C#:maj', 'G#:maj', 'N', 'B:maj', 'B:maj', 'D#:min', 'F#:maj', 'C#:maj', 'C#:maj', 'G#:min', 'G#:min', 'B:maj', 'B:maj', 'D#:min', 'F#:maj', 'C#:maj', 'C#:maj', 'B:maj', 'B:maj', 'B:maj', 'B:maj', 'B:maj', 'B:maj', 'N', 'N', 'N', 'N', 'N', 'N', 'D#:min', 'F#:maj', 'B:maj', 'B:maj', 'F#:maj', 'F#:maj', 'C#:maj', 'C#:maj', 'D#:min', 'F#:maj', 'B:maj', 'B:maj', 'F#:maj', 'F#:maj', 'C#:maj', 'C#:maj', 'D#:min', 'D#:min', 'B:maj', 'B:maj', 'F#:maj', 'F#:maj', 'C#:maj', 'C#:maj', 'D#:min', 'D#:min', 'B:maj', 'B:maj', 'F#:maj', 'F#:maj', 'C#:maj', 'C#:maj', 'D#:min', 'F#:maj', 'B:maj', 'B:maj', 'F#:maj', 'F#:maj', 'C#:maj', 'C#:maj', 'D#:min', 'D#:min', 'B:maj', 'B:maj', 'F#:maj', 'F#:maj', 'C#:maj', 'C#:maj', 'D#:min', 'F#:maj', 'B:maj', 'B:maj', 'F#:maj', 'F#:maj', 'C#:maj', 'C#:maj', 'B:maj', 'B:maj', 'B:maj', 'B:maj', 'B:maj', 'B:maj', 'N', 'N', 'N', 'N', 'N', 'N', 'D#:min', 'N', 'B:maj', 'N', 'F#:maj', 'C#:maj']\n",
    "\n",
    "\n",
    "\n",
    "\n",
    "new =['F#:maj', 'F#:maj', 'C#:maj', 'C#:maj', 'D#:min', 'D#:min', 'B:maj', 'B:maj', 'F#:maj', 'F#:maj', 'C#:maj', 'C#:maj', 'D#:min', 'D#:min', 'B:maj', 'B:maj', 'F#:maj', 'F#:maj', 'C#:maj', 'C#:maj', 'D#:min', 'D#:min', 'B:maj', 'B:maj', 'F#:maj', 'F#:maj', 'C#:maj', 'C#:maj', 'D#:min', 'D#:min', 'B:maj', 'B:maj', 'F#:maj', 'F#:maj', 'C#:maj', 'C#:maj', 'D#:min', 'D#:min', 'B:maj', 'B:maj', 'F#:maj', 'F#:maj', 'C#:maj', 'C#:maj', 'D#:min', 'D#:min', 'B:maj', 'B:maj', 'F#:maj', 'F#:maj', 'C#:maj', 'C#:maj', 'D#:min', 'D#:min', 'B:maj', 'B:maj', 'F#:maj', 'F#:maj', 'C#:maj', 'C#:maj', 'D#:min', 'D#:min', 'B:maj', 'B:maj', 'F#:maj', 'F#:maj', 'C#:maj', 'C#:maj', 'D#:min', 'D#:min', 'B:maj', 'B:maj', 'F#:maj', 'F#:maj', 'C#:maj', 'C#:maj', 'D#:min', 'D#:min', 'B:maj', 'B:maj', 'F#:maj', 'F#:maj', 'C#:maj', 'C#:maj', 'D#:min', 'D#:min', 'B:maj', 'B:maj', 'F#:maj', 'F#:maj', 'C#:maj', 'C#:maj', 'D#:min', 'D#:min', 'B:maj', 'B:maj', 'F#:maj', 'F#:maj', 'C#:maj', 'C#:maj', 'D#:min', 'D#:min', 'B:maj', 'B:maj', 'F#:maj', 'F#:maj', 'C#:maj', 'C#:maj', 'D#:min', 'D#:min', 'B:maj', 'B:maj', 'F#:maj', 'F#:maj', 'C#:maj', 'C#:maj', 'D#:min', 'D#:min', 'B:maj', 'B:maj', 'F#:maj', 'F#:maj', 'C#:maj', 'C#:maj', 'D#:min', 'D#:min', 'B:maj', 'B:maj', 'F#:maj', 'F#:maj', 'C#:maj', 'C#:maj', 'D#:min', 'D#:min', 'B:maj', 'B:maj', 'F#:maj', 'F#:maj', 'C#:maj', 'C#:maj', 'D#:min', 'D#:min', 'B:maj', 'B:maj', 'F#:maj', 'F#:maj', 'C#:maj', 'C#:maj', 'D#:min', 'D#:min', 'B:maj', 'B:maj', 'F#:maj', 'F#:maj', 'C#:maj', 'C#:maj', 'D#:min', 'D#:min', 'B:maj', 'B:maj', 'F#:maj', 'F#:maj', 'C#:maj', 'C#:maj', 'D#:min', 'D#:min', 'B:maj', 'B:maj', 'F#:maj', 'F#:maj', 'C#:maj', 'C#:maj', 'D#:min', 'D#:min', 'B:maj', 'B:maj', 'F#:maj', 'F#:maj', 'C#:maj', 'C#:maj', 'D#:min', 'D#:min', 'B:maj', 'B:maj', 'F#:maj', 'F#:maj', 'C#:maj', 'C#:maj', 'D#:min', 'D#:min', 'B:maj', 'B:maj', 'F#:maj', 'F#:maj', 'C#:maj', 'C#:maj', 'D#:min', 'D#:min', 'B:maj', 'B:maj', 'F#:maj', 'F#:maj', 'C#:maj', 'C#:maj', 'D#:min', 'D#:min', 'B:maj', 'B:maj', 'F#:maj', 'F#:maj', 'C#:maj', 'C#:maj', 'D#:min', 'D#:min', 'B:maj', 'B:maj', 'F#:maj', 'F#:maj', 'C#:maj', 'C#:maj', 'D#:min', 'D#:min', 'B:maj', 'B:maj', 'F#:maj', 'F#:maj', 'C#:maj', 'C#:maj', 'D#:min', 'D#:min', 'B:maj', 'B:maj', 'F#:maj', 'F#:maj', 'C#:maj', 'C#:maj', 'D#:min', 'D#:min', 'B:maj', 'B:maj', 'F#:maj', 'F#:maj', 'C#:maj', 'C#:maj', 'D#:min', 'D#:min', 'B:maj', 'B:maj', 'F#:maj', 'F#:maj', 'C#:maj', 'C#:maj', 'D#:min', 'D#:min', 'B:maj', 'B:maj', 'F#:maj', 'F#:maj', 'C#:maj', 'C#:maj', 'D#:min', 'D#:min', 'B:maj', 'B:maj', 'F#:maj', 'F#:maj', 'C#:maj', 'C#:maj', 'D#:min','D#:min', 'B:maj', 'B:maj', 'F#:maj', 'F#:maj', 'C#:maj', 'C#:maj', 'D#:min', 'D#:min', 'B:maj', 'B:maj', 'F#:maj', 'F#:maj', 'C#:maj', 'C#:maj', 'D#:min', 'D#:min', 'B:maj','B:maj', 'F#:maj', 'F#:maj', 'C#:maj', 'C#:maj', 'D#:min', 'D#:min', 'B:maj', 'B:maj', 'F#:maj', 'F#:maj', 'C#:maj', 'C#:maj', 'D#:min', 'D#:min', 'B:maj', 'B:maj', 'F#:maj','F#:maj', 'C#:maj', 'C#:maj', 'D#:min', 'D#:min', 'B:maj', 'B:maj', 'F#:maj', 'F#:maj', 'C#:maj', 'C#:maj', 'D#:min', 'D#:min', 'B:maj', 'B:maj', 'F#:maj', 'F#:maj', 'C#:maj', 'C#:maj', 'D#:min', 'D#:min', 'B:maj', 'B:maj', 'F#:maj', 'F#:maj', 'C#:maj', 'C#:maj', 'D#:min', 'D#:min', 'B:maj', 'B:maj', 'F#:maj', 'F#:maj', 'C#:maj', 'C#:maj', 'D#:min', 'D#:min', 'B:maj', 'B:maj', 'F#:maj', 'F#:maj', 'C#:maj', 'C#:maj', 'D#:min', 'D#:min', 'B:maj', 'B:maj', 'F#:maj', 'F#:maj', 'C#:maj', 'C#:maj', 'D#:min', 'D#:min', 'B:maj', 'B:maj', 'F#:maj', 'F#:maj', 'C#:maj', 'C#:maj', 'D#:min']"
   ]
  },
  {
   "cell_type": "code",
   "execution_count": 79,
   "metadata": {
    "scrolled": false
   },
   "outputs": [],
   "source": [
    "\n",
    "def get_freq(index_list):\n",
    "    indexes_dict = dict()\n",
    "    for i in index_list:\n",
    "        if i not in indexes_dict:\n",
    "            indexes_dict[i] = 0\n",
    "        indexes_dict[i] += 1\n",
    "    return indexes_dict\n",
    "    \n",
    "chord_freq = dict()\n",
    "\n",
    "for i in range(len(inp)):\n",
    "#     print(i, i % 8,inp[i])\n",
    "    if inp[i] not in chord_freq:\n",
    "        chord_freq[inp[i]] = []\n",
    "    chord_freq[inp[i]].append(i)\n",
    "\n",
    "if len(list(chord_freq.keys())) > 4:\n",
    "    sorted_length_chord_map = sorted([[len(v), k] for k,v in chord_freq.items()])\n",
    "    while len(chord_freq) > 4:\n",
    "        chord_freq.pop(sorted_length_chord_map.pop(0)[1])    \n",
    "\n",
    "\n"
   ]
  },
  {
   "cell_type": "code",
   "execution_count": 81,
   "metadata": {},
   "outputs": [
    {
     "name": "stdout",
     "output_type": "stream",
     "text": [
      "{'D#:min': [4, 0, 0, 39], 'B:maj': [7, 45, 43, 7], 'F#:maj': [74, 1, 1, 40], 'C#:maj': [1, 40, 40, 0]}\n"
     ]
    }
   ],
   "source": [
    "total_bar_length = 4\n",
    "\n",
    "input_chord = dict()\n",
    "for key, val in chord_freq.items():\n",
    "    freq = get_freq([i % total_bar_length for i in val])\n",
    "    activation_list = [0 for i in range(total_bar_length)]\n",
    "    \n",
    "    for k,v in freq.items():\n",
    "        activation_list[k] = v\n",
    "#     activation_list = [ i / sum(activation_list) for i in activation_list]\n",
    "        \n",
    "    input_chord[key] = activation_list\n",
    "    \n",
    "print(input_chord)\n",
    "# for key in list(input_chord.keys()):\n",
    "#     new_val = []\n",
    "#     for i in range(len(input_chord[key])):\n",
    "#         if i% 2 == 1:\n",
    "#             new_val.append(input_chord[key][i] + input_chord[key][(i+1) % total_bar_length])\n",
    "#     input_chord[key] = new_val\n",
    "# print(input_chord)\n",
    "\n",
    "\n",
    "# permutation = list(itertools.permutations(input_chord.keys()))\n",
    "# permutation_2 "
   ]
  },
  {
   "cell_type": "code",
   "execution_count": null,
   "metadata": {},
   "outputs": [],
   "source": []
  }
 ],
 "metadata": {
  "kernelspec": {
   "display_name": "Python 3",
   "language": "python",
   "name": "python3"
  },
  "language_info": {
   "codemirror_mode": {
    "name": "ipython",
    "version": 3
   },
   "file_extension": ".py",
   "mimetype": "text/x-python",
   "name": "python",
   "nbconvert_exporter": "python",
   "pygments_lexer": "ipython3",
   "version": "3.6.4"
  }
 },
 "nbformat": 4,
 "nbformat_minor": 2
}
