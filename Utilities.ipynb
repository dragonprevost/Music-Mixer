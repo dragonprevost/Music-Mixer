{
 "cells": [
  {
   "cell_type": "code",
   "execution_count": 2,
   "metadata": {},
   "outputs": [],
   "source": [
    "import librosa, librosa.display, numpy\n",
    "import numpy as np\n",
    "import matplotlib.pyplot as plt\n",
    "import IPython.display as ipd\n",
    "from pprint import pprint\n",
    "#music synthesizer "
   ]
  },
  {
   "cell_type": "code",
   "execution_count": 21,
   "metadata": {},
   "outputs": [],
   "source": [
    "#Convert to mono and save\n",
    "file_name ='if_i_were_a_boy.mp3'\n",
    "out_filename = file_name.replace('.mp3', \"\") + '.wav'\n",
    "y, sr = librosa.load(file_name, mono=False)\n",
    "y_mono = librosa.to_mono(y)\n",
    "librosa.output.write_wav(out_filename, y_mono, sr)"
   ]
  },
  {
   "cell_type": "code",
   "execution_count": 23,
   "metadata": {},
   "outputs": [],
   "source": [
    "#slicing and save\n",
    "file_name ='just_a_dream.wav'\n",
    "start = 10\n",
    "duration = 150 + start\n",
    "out_filename = file_name.replace(\".wav\",\"\") +  str(start) + \"_\" + str(duration) + '.wav'\n",
    "y, sr = librosa.load(file_name, mono=False)\n",
    "# print(len(y), len(y[:duration*sr]))\n",
    "y = y[start*sr: duration*sr]\n",
    "librosa.output.write_wav(out_filename, y, sr)"
   ]
  }
 ],
 "metadata": {
  "kernelspec": {
   "display_name": "Python 3",
   "language": "python",
   "name": "python3"
  },
  "language_info": {
   "codemirror_mode": {
    "name": "ipython",
    "version": 3
   },
   "file_extension": ".py",
   "mimetype": "text/x-python",
   "name": "python",
   "nbconvert_exporter": "python",
   "pygments_lexer": "ipython3",
   "version": "3.6.4"
  }
 },
 "nbformat": 4,
 "nbformat_minor": 2
}
